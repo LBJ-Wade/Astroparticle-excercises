{
 "cells": [
  {
   "cell_type": "code",
   "execution_count": 1,
   "metadata": {},
   "outputs": [],
   "source": [
    "from oda_api.api import DispatcherAPI\n",
    "from oda_api.plot_tools import OdaImage,OdaLightCurve\n",
    "from oda_api.data_products import BinaryData\n",
    "import os\n",
    "from astropy.io import fits\n",
    "import numpy as np\n",
    "from numpy import sqrt,exp\n",
    "import matplotlib.pyplot as plt\n",
    "%matplotlib inline\n",
    "\n"
   ]
  },
  {
   "cell_type": "code",
   "execution_count": 2,
   "metadata": {},
   "outputs": [],
   "source": [
    "source_name='Crab'\n",
    "ra=83.633080\n",
    "dec=22.014500\n",
    "radius=15.\n",
    "radius_jemx=5.\n",
    "Tstart='2003-03-16T00:00:00'\n",
    "Tstop='2015-03-15T23:59:59'\n",
    "host='https://www.astro.unige.ch/cdci/astrooda/dispatch-data'\n",
    "E1_keV=20.\n",
    "E2_keV=40.\n",
    "E1_keV_jemx=3.\n",
    "E2_keV_jemx=20.\n",
    "\n",
    "rebin=10"
   ]
  },
  {
   "cell_type": "code",
   "execution_count": 3,
   "metadata": {},
   "outputs": [],
   "source": [
    "disp=DispatcherAPI(host=host)"
   ]
  },
  {
   "cell_type": "code",
   "execution_count": 13,
   "metadata": {},
   "outputs": [
    {
     "name": "stdout",
     "output_type": "stream",
     "text": [
      "- waiting for remote response, please wait run_analysis https://www.astro.unige.ch/cdci/astrooda/dispatch-data\n",
      "T1 2003-03-16T00:00:00\n",
      "T2 2015-03-15T23:59:59\n",
      "E1_keV 20.0\n",
      "E2_keV 40.0\n",
      "osa_version OSA10.2\n",
      "RA 83.63308\n",
      "DEC 22.0145\n",
      "detection_threshold 10\n",
      "instrument isgri\n",
      "product_type isgri_image\n",
      "query_type Real\n",
      "off_line (False,)\n",
      "query_status ('new',)\n",
      "verbose (False,)\n",
      "session_id 0SECVI92W7T5V7HK\n",
      "dry_run (False,)\n",
      "api True\n",
      "the job has been submitted on the remote server\n",
      " / the job is working remotely, please wait status=done - job_id=7876165725006684297  97  \n",
      "\n",
      "query done succesfully!\n"
     ]
    }
   ],
   "source": [
    "data=disp.get_product(instrument='isgri',\n",
    "                      product='isgri_image',\n",
    "                      T1=Tstart,\n",
    "                      T2=Tstop,\n",
    "                      E1_keV=E1_keV,\n",
    "                      E2_keV=E2_keV,\n",
    "                      osa_version='OSA10.2',\n",
    "                      RA=ra,\n",
    "                      DEC=dec,\n",
    "                      detection_threshold=10,\n",
    "                      product_type='Real')"
   ]
  },
  {
   "cell_type": "code",
   "execution_count": 14,
   "metadata": {},
   "outputs": [
    {
     "data": {
      "text/html": [
       "<i>Table length=4</i>\n",
       "<table id=\"table4723185168\" class=\"table-striped table-bordered table-condensed\">\n",
       "<thead><tr><th>meta_ID</th><th>src_names</th><th>significance</th><th>ra</th><th>dec</th><th>NEW_SOURCE</th><th>ISGRI_FLAG</th><th>FLAG</th><th>ERR_RAD</th></tr></thead>\n",
       "<thead><tr><th></th><th></th><th></th><th>deg</th><th>deg</th><th></th><th></th><th></th><th></th></tr></thead>\n",
       "<thead><tr><th>int64</th><th>str11</th><th>float64</th><th>float64</th><th>float64</th><th>int64</th><th>int64</th><th>int64</th><th>object</th></tr></thead>\n",
       "<tr><td>0</td><td>1A 0535+262</td><td>275.7215881347656</td><td>84.72891998291016</td><td>26.31559181213379</td><td>-32768</td><td>2</td><td>0</td><td>0.0002800000074785203</td></tr>\n",
       "<tr><td>5</td><td>Crab</td><td>1519.4791259765625</td><td>83.63150024414062</td><td>22.016033172607422</td><td>-32768</td><td>2</td><td>0</td><td>0.0002800000074785203</td></tr>\n",
       "<tr><td>23</td><td>NEW_1</td><td>11.129651069641113</td><td>82.82781219482422</td><td>32.581546783447266</td><td>-32767</td><td>0</td><td>0</td><td>None</td></tr>\n",
       "<tr><td>46</td><td>Crab</td><td>218.60061645507812</td><td>83.63021850585938</td><td>22.015247344970703</td><td>-32768</td><td>2</td><td>0</td><td>0.0002800000074785203</td></tr>\n",
       "</table>"
      ],
      "text/plain": [
       "<Table length=4>\n",
       "meta_ID  src_names     significance    ...  FLAG        ERR_RAD       \n",
       "                                       ...                            \n",
       " int64     str11         float64       ... int64         object       \n",
       "------- ----------- ------------------ ... ----- ---------------------\n",
       "      0 1A 0535+262  275.7215881347656 ...     0 0.0002800000074785203\n",
       "      5        Crab 1519.4791259765625 ...     0 0.0002800000074785203\n",
       "     23       NEW_1 11.129651069641113 ...     0                  None\n",
       "     46        Crab 218.60061645507812 ...     0 0.0002800000074785203"
      ]
     },
     "execution_count": 14,
     "metadata": {},
     "output_type": "execute_result"
    }
   ],
   "source": [
    "data.dispatcher_catalog_1.table"
   ]
  },
  {
   "cell_type": "code",
   "execution_count": 15,
   "metadata": {},
   "outputs": [],
   "source": [
    "torm=[2,3]\n",
    "data.dispatcher_catalog_1.table.remove_rows(torm)\n"
   ]
  },
  {
   "cell_type": "code",
   "execution_count": 16,
   "metadata": {},
   "outputs": [],
   "source": [
    "api_cat=data.dispatcher_catalog_1.get_api_dictionary()"
   ]
  },
  {
   "cell_type": "code",
   "execution_count": 18,
   "metadata": {
    "scrolled": false
   },
   "outputs": [
    {
     "name": "stdout",
     "output_type": "stream",
     "text": [
      "- waiting for remote response, please wait run_analysis https://www.astro.unige.ch/cdci/astrooda/dispatch-data\n",
      "T1 2003-03-16T00:00:00\n",
      "T2 2015-03-15T23:59:59\n",
      "query_type Real\n",
      "osa_version OSA10.2\n",
      "RA 83.63308\n",
      "DEC 22.0145\n",
      "selected_catalog {\"cat_frame\": \"fk5\", \"cat_coord_units\": \"deg\", \"cat_column_list\": [[0, 5], [\"1A 0535+262\", \"Crab\"], [275.7215881347656, 1519.4791259765625], [84.72891998291016, 83.63150024414062], [26.31559181213379, 22.016033172607422], [-32768, -32768], [2, 2], [0, 0], [0.0002800000074785203, 0.0002800000074785203]], \"cat_column_names\": [\"meta_ID\", \"src_names\", \"significance\", \"ra\", \"dec\", \"NEW_SOURCE\", \"ISGRI_FLAG\", \"FLAG\", \"ERR_RAD\"], \"cat_column_descr\": [[\"meta_ID\", \"<i8\"], [\"src_names\", \"<U11\"], [\"significance\", \"<f8\"], [\"ra\", \"<f8\"], [\"dec\", \"<f8\"], [\"NEW_SOURCE\", \"<i8\"], [\"ISGRI_FLAG\", \"<i8\"], [\"FLAG\", \"<i8\"], [\"ERR_RAD\", \"|O\"]], \"cat_lat_name\": \"dec\", \"cat_lon_name\": \"ra\"}\n",
      "instrument isgri\n",
      "product_type isgri_spectrum\n",
      "off_line (False,)\n",
      "query_status ('new',)\n",
      "verbose (False,)\n",
      "session_id 5GN23VPPXI4AEFU9\n",
      "dry_run (False,)\n",
      "api True\n",
      "the job has been submitted on the remote server\n",
      " \\ the job is working remotely, please wait status=done - job_id=-8521552159603223644 644 \n",
      "\n",
      "query done succesfully!\n"
     ]
    }
   ],
   "source": [
    "spectrum_isgri=disp.get_product(instrument='isgri',\n",
    "                    product='isgri_spectrum',\n",
    "                    T1=Tstart,\n",
    "                    T2=Tstop,\n",
    "                    query_type='Real',\n",
    "                    osa_version='OSA10.2',\n",
    "                    RA=ra,\n",
    "                    DEC=dec,\n",
    "                    product_type='Real',\n",
    "                    selected_catalog=api_cat)\n"
   ]
  },
  {
   "cell_type": "code",
   "execution_count": 19,
   "metadata": {},
   "outputs": [
    {
     "name": "stdout",
     "output_type": "stream",
     "text": [
      "3 4 5\n"
     ]
    }
   ],
   "source": [
    "FLAG=0\n",
    "for ID,s in enumerate(spectrum_isgri._p_list):\n",
    "    if (s.meta_data['src_name']==source_name):\n",
    "        if(s.meta_data['product']=='isgri_spectrum')and(FLAG==0):\n",
    "            ID_spec=ID\n",
    "            FLAG=1\n",
    "            ID_arf=ID+1\n",
    "            ID_rmf=ID+2\n",
    "\n",
    "print(ID_spec, ID_arf, ID_rmf)\n"
   ]
  },
  {
   "cell_type": "code",
   "execution_count": 20,
   "metadata": {},
   "outputs": [
    {
     "name": "stderr",
     "output_type": "stream",
     "text": [
      "WARNING: VerifyWarning: Keyword name 'instrument' is greater than 8 characters or contains characters not allowed by the FITS standard; a HIERARCH card will be created. [astropy.io.fits.card]\n",
      "WARNING: VerifyWarning: Keyword name 'osa_version' is greater than 8 characters or contains characters not allowed by the FITS standard; a HIERARCH card will be created. [astropy.io.fits.card]\n",
      "WARNING: VerifyWarning: Keyword name 'product_type' is greater than 8 characters or contains characters not allowed by the FITS standard; a HIERARCH card will be created. [astropy.io.fits.card]\n",
      "WARNING: VerifyWarning: Keyword name 'query_status' is greater than 8 characters or contains characters not allowed by the FITS standard; a HIERARCH card will be created. [astropy.io.fits.card]\n",
      "WARNING: VerifyWarning: Keyword name 'query_type' is greater than 8 characters or contains characters not allowed by the FITS standard; a HIERARCH card will be created. [astropy.io.fits.card]\n",
      "WARNING: VerifyWarning: Keyword name 'session_id' is greater than 8 characters or contains characters not allowed by the FITS standard; a HIERARCH card will be created. [astropy.io.fits.card]\n"
     ]
    }
   ],
   "source": [
    "name=source_name.replace(\" \", \"\")\n",
    "specname=name+'_spectrum_osa10.fits'\n",
    "arfname=name+'_arf_osa10.fits.gz'\n",
    "rmfname=name+'_rmf_osa10.fits.gz'\n",
    "spectrum_isgri._p_list[ID_spec].write_fits_file(specname)\n",
    "spectrum_isgri._p_list[ID_arf].write_fits_file(arfname)\n",
    "spectrum_isgri._p_list[ID_rmf].write_fits_file(rmfname)\n"
   ]
  },
  {
   "cell_type": "code",
   "execution_count": 21,
   "metadata": {},
   "outputs": [],
   "source": [
    "expos=spectrum_isgri._p_list[0].data_unit[1].header['EXPOSURE']\n",
    "hdul = fits.open(specname, mode='update')\n",
    "hdr=hdul[1].header\n",
    "hdr.set('EXPOSURE', expos)\n",
    "hdul.close()"
   ]
  },
  {
   "cell_type": "code",
   "execution_count": 28,
   "metadata": {},
   "outputs": [
    {
     "name": "stdout",
     "output_type": "stream",
     "text": [
      "\n",
      "\t\tXSPEC version: 12.10.1f\n",
      "\tBuild Date/Time: Fri Oct  4 00:41:04 2019\n",
      "\n",
      "XSPEC12>statistic chi\n",
      "Default fit statistic is set to: Chi-Squared\n",
      "   This will apply to all current and newly loaded spectra.\n",
      "XSPEC12>data Crab_spectrum_osa10.fits\n",
      "***Warning: POISSERR keyword is missing or of wrong format, assuming FALSE.\n",
      "\n",
      "1 spectrum  in use\n",
      " \n",
      "Spectral Data File: Crab_spectrum_osa10.fits  Spectrum 1\n",
      "Net count rate (cts/s) for Spectrum:1  nan       +/- nan      \n",
      " Assigned to Data Group 1 and Plot Group 1\n",
      "  Noticed Channels:  1-62\n",
      "  Telescope: INTEGRAL Instrument: IBIS  Channel Type: PI\n",
      "  Exposure Time: 7.582e+04 sec\n",
      " Using fit statistic: chi\n",
      " Using test statistic: chi\n",
      " No response loaded.\n",
      "\n",
      "***Warning!  One or more spectra are missing responses,\n",
      "               and are not suitable for fit.\n",
      "XSPEC12>response Crab_rmf_osa10.fits.gz\n",
      "Warning: RMF CHANTYPE keyword (PHA) is not consistent with that from spectrum (PI)\n",
      "Response successfully loaded.\n",
      "XSPEC12>arf Crab_arf_osa10.fits.gz\n",
      "Arf successfully loaded.\n",
      "XSPEC12>ignore bad\n",
      "\n",
      "ignore:     1 channels ignored from  source number 1\n",
      "XSPEC12>ignore **-30. 300.-**\n",
      "    17 channels (1-17) ignored in spectrum #     1\n",
      "     5 channels (58-62) ignored in spectrum #     1\n",
      "\n",
      "XSPEC12>model  bknpower\n",
      "\n",
      "Input parameter value, delta, min, bot, top, and max values for ...\n",
      "              1       0.01(      0.01)         -3         -2          9         10\n",
      "1:bknpower:PhoIndx1>        2.09467       0.01\u0007  -3\u0007     -2 \u0007 9\u0007   10\n",
      "              5       0.01(      0.05)          0       0.01      1e+06      1e+06\n",
      "2:bknpower:BreakE> \u0007   100.         -1\u0007   0\u0007   0.01      1e+06\u00071e+06\n",
      "              2       0.01(      0.02)         -3         -2          9         10\n",
      "3:bknpower:PhoIndx2>        2.28099       0.01\u0007  -3\u0007     -2 \u0007 9\u0007   10\n",
      "              1       0.01(      0.01)          0          0      1e+20      1e+24\n",
      "4:bknpower:norm>        9.49585       0.01\u0007   0\u0007      0      1e+20\u00071e+24\n",
      "\n",
      "***XSPEC Error:  invalid parameter input: Parameter BreakE: 5th (soft upper limit) field: 1e+061e+06\n",
      "\n",
      "***XSPEC Error:  invalid parameter input: Parameter norm: 5th (soft upper limit) field: 1e+201e+24\n",
      "\n",
      "========================================================================\n",
      "Model bknpower<1> Source No.: 1   Active/On\n",
      "Model Model Component  Parameter  Unit     Value\n",
      " par  comp\n",
      "   1    1   bknpower   PhoIndx1            2.09467      +/-  0.0          \n",
      "   2    1   bknpower   BreakE     keV      5.00000      +/-  0.0          \n",
      "   3    1   bknpower   PhoIndx2            2.28099      +/-  0.0          \n",
      "   4    1   bknpower   norm                1.00000      +/-  0.0          \n",
      "________________________________________________________________________\n",
      "\n",
      "\n",
      "Fit statistic : Chi-Squared =   1.357192e+06 using 40 PHA bins.\n",
      "\n",
      "Test statistic : Chi-Squared =   1.357192e+06 using 40 PHA bins.\n",
      " Reduced chi-squared =       37699.77 for     36 degrees of freedom \n",
      " Null hypothesis probability =   0.000000e+00\n",
      " Current data and model not fit yet.\n",
      "XSPEC12>fit 10000\n",
      "                                   Parameters\n",
      "Chi-Squared  |beta|/N    Lvl    1:PhoIndx1      2:BreakE    3:PhoIndx2        4:norm\n",
      "4176.86      7841.96      -1       2.10606       4.50780       2.25567       14.1589\n",
      "3179.63      3865.39      -1       2.11684       4.01892       2.23606       13.9292\n",
      "2480.86      3068.34      -1       2.12669       3.55682       2.22040       13.7383\n",
      "1983.84      2458.16      -1       2.13588       3.11448       2.20780       13.5781\n",
      "1625.54      1921.22      -1       2.14468       2.68145       2.19759       13.4424\n",
      "1365.47      1412.26      -1       2.15346       2.24249       2.18931       13.3259\n",
      "1179.79      965.765      -1       2.16285       1.76808       2.18263       13.2248\n",
      "1083         1424.77      -1       2.17471       1.16395       2.17738       13.1354\n",
      "1064.77      6029.94       0       2.17774      0.962792       2.17744       13.1294\n",
      "1064.53      4762.46       2       2.17761      0.978986       2.17744       13.1293\n",
      "1064.37      4703.3        2       2.17737       1.00862       2.17744       13.1293\n",
      "1064.35      4625.85       3       2.17743       1.00151       2.17744       13.1293\n",
      "1064.35      4637.91       4       2.17746      0.997595       2.17744       13.1293\n",
      "***Warning: LevMarq::invertCorrelationMatrix: \n",
      "            Negative diagonal element for parameter 1\n",
      "==================================================\n",
      " Variances and Principal Axes\n",
      "                 1        2        3        4  \n",
      " 4.1552E-08| -0.0004   0.0000  -0.9998   0.0194  \n",
      " 2.0570E+08|  0.9998   0.0000   0.0000   0.0199  \n",
      " 1.3056E-02|  0.0199  -0.0002  -0.0194  -0.9996  \n",
      " 7.6145E+15| -0.0000  -1.0000   0.0000   0.0002  \n",
      "--------------------------------------------------\n",
      "\n",
      "================================================\n",
      "  Covariance Matrix\n",
      "        1           2           3           4   \n",
      "  -8.249e+15  -6.949e+17   9.921e+02  -4.503e+13\n",
      "  -4.846e+17   3.263e+21  -4.653e+06  -5.674e+17\n",
      "   6.922e+02  -4.653e+06   4.985e-06   8.091e+02\n",
      "  -8.098e+13  -5.716e+17   8.150e+02   9.610e+13\n",
      "------------------------------------------------\n",
      "\n",
      "========================================================================\n",
      "Model bknpower<1> Source No.: 1   Active/On\n",
      "Model Model Component  Parameter  Unit     Value\n",
      " par  comp\n",
      "   1    1   bknpower   PhoIndx1            2.17746      +/-  -1.00000     \n",
      "   2    1   bknpower   BreakE     keV      0.997595     +/-  5.71213E+10  \n",
      "   3    1   bknpower   PhoIndx2            2.17744      +/-  2.23263E-03  \n",
      "   4    1   bknpower   norm                13.1293      +/-  9.80286E+06  \n",
      "________________________________________________________________________\n",
      "\n",
      "\n",
      "Fit statistic : Chi-Squared =        1064.35 using 40 PHA bins.\n",
      "\n",
      "Test statistic : Chi-Squared =        1064.35 using 40 PHA bins.\n",
      " Reduced chi-squared =        29.5654 for     36 degrees of freedom \n",
      " Null hypothesis probability =  4.837299e-200\n",
      "XSPEC12>setplot rebin 10 10\n",
      "XSPEC12>plot eeufs\n",
      "XSPEC12>iplot\n",
      "PLT> wdata Crab_spectrum_osa10.txt\n",
      "PLT> XSPEC12>\n",
      " XSPEC: quit\n"
     ]
    }
   ],
   "source": [
    "rebin=10\n",
    "!./spectrum_fit_bknpower.sh $name $rebin"
   ]
  },
  {
   "cell_type": "code",
   "execution_count": 26,
   "metadata": {},
   "outputs": [
    {
     "data": {
      "image/png": "[encoded data removed]",
      "text/plain": [
       "<Figure size 720x504 with 1 Axes>"
      ]
     },
     "metadata": {
      "needs_background": "light"
     },
     "output_type": "display_data"
    }
   ],
   "source": [
    "plt.figure(figsize=(10,7))\n",
    "\n",
    "spectrum=np.genfromtxt(name+'_spectrum_osa10.txt',skip_header=3)\n",
    "en=spectrum[:,0]\n",
    "en_err=spectrum[:,1]\n",
    "fl=spectrum[:,2]\n",
    "fl_err=spectrum[:,3]\n",
    "mo=spectrum[:,4]\n",
    "plt.errorbar(en,fl,xerr=en_err,yerr=fl_err,linestyle='none',linewidth=8,color='black',alpha=0.5,label='OSA 10.2 (2003-2015)')\n",
    "plt.plot(en,mo,color='black',linewidth=4)\n",
    "\n",
    "\n",
    "plt.tick_params(axis='both', which='major', labelsize=16)\n",
    "plt.xscale('log')\n",
    "plt.yscale('log')\n",
    "#plt.ylim(1.e-3,6.e-1)\n",
    "#plt.xlim(15,350)\n",
    "plt.xlabel('$E$, keV',fontsize=16)\n",
    "plt.ylabel('$E^2F_E$, keV/(cm$^2$s)',fontsize=16)\n",
    "plt.legend(loc='lower left',fontsize=16)\n",
    "plt.savefig(name+'_spectrum.pdf',format='pdf',dpi=100)\n"
   ]
  },
  {
   "cell_type": "code",
   "execution_count": null,
   "metadata": {},
   "outputs": [],
   "source": []
  }
 ],
 "metadata": {
  "kernelspec": {
   "display_name": "Python 3",
   "language": "python",
   "name": "python3"
  },
  "language_info": {
   "codemirror_mode": {
    "name": "ipython",
    "version": 3
   },
   "file_extension": ".py",
   "mimetype": "text/x-python",
   "name": "python",
   "nbconvert_exporter": "python",
   "pygments_lexer": "ipython3",
   "version": "3.7.4"
  }
 },
 "nbformat": 4,
 "nbformat_minor": 2
}
